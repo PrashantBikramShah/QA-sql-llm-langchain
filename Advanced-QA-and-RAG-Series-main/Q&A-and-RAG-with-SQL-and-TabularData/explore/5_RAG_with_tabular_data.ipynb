{
 "cells": [
  {
   "cell_type": "code",
   "execution_count": 2,
   "metadata": {},
   "outputs": [
    {
     "name": "stdout",
     "output_type": "stream",
     "text": [
      "True\n"
     ]
    }
   ],
   "source": [
    "import os\n",
    "from pyprojroot import here\n",
    "import pandas as pd\n",
    "import chromadb\n",
    "from openai import OpenAI\n",
    "import warnings\n",
    "warnings.filterwarnings(\"ignore\")\n",
    "from dotenv import load_dotenv\n",
    "print(load_dotenv())"
   ]
  },
  {
   "cell_type": "code",
   "execution_count": 5,
   "metadata": {},
   "outputs": [],
   "source": [
    "openai_api_key = os.environ[\"OPENAI_API_KEY\"]\n",
    "#azure_openai_endpoint = os.environ[\"OPENAI_API_BASE\"]"
   ]
  },
  {
   "cell_type": "code",
   "execution_count": 6,
   "metadata": {},
   "outputs": [],
   "source": [
    "openai_client = OpenAI(\n",
    "  api_key = openai_api_key,  \n",
    "  #api_version = \"2023-07-01-preview\",\n",
    "  #azure_endpoint = azure_openai_endpoint\n",
    ")\n",
    "chroma_client = chromadb.PersistentClient(path=str(here(\"data/chroma\")))"
   ]
  },
  {
   "cell_type": "markdown",
   "metadata": {},
   "source": [
    "**Create a collection for data injection**\n",
    "\n",
    "Throws an error if the table already exists"
   ]
  },
  {
   "cell_type": "code",
   "execution_count": 7,
   "metadata": {},
   "outputs": [],
   "source": [
    "collection = chroma_client.create_collection(name=\"titanic_small\")"
   ]
  },
  {
   "cell_type": "code",
   "execution_count": 27,
   "metadata": {},
   "outputs": [],
   "source": [
    "file_dir = here(\"data/for_upload/titanic_small.csv\")\n",
    "df = pd.read_csv(file_dir)\n",
    "#df = pd.read_csv(file_dir, nrows=5)"
   ]
  },
  {
   "cell_type": "code",
   "execution_count": 30,
   "metadata": {},
   "outputs": [
    {
     "data": {
      "text/html": [
       "<div>\n",
       "<style scoped>\n",
       "    .dataframe tbody tr th:only-of-type {\n",
       "        vertical-align: middle;\n",
       "    }\n",
       "\n",
       "    .dataframe tbody tr th {\n",
       "        vertical-align: top;\n",
       "    }\n",
       "\n",
       "    .dataframe thead th {\n",
       "        text-align: right;\n",
       "    }\n",
       "</style>\n",
       "<table border=\"1\" class=\"dataframe\">\n",
       "  <thead>\n",
       "    <tr style=\"text-align: right;\">\n",
       "      <th></th>\n",
       "      <th>Survived</th>\n",
       "      <th>Pclass</th>\n",
       "      <th>Name</th>\n",
       "      <th>Sex</th>\n",
       "      <th>Age</th>\n",
       "      <th>Siblings/Spouses Aboard</th>\n",
       "      <th>Parents/Children Aboard</th>\n",
       "      <th>Fare</th>\n",
       "    </tr>\n",
       "  </thead>\n",
       "  <tbody>\n",
       "    <tr>\n",
       "      <th>0</th>\n",
       "      <td>0</td>\n",
       "      <td>3</td>\n",
       "      <td>Mr. Owen Harris Braund</td>\n",
       "      <td>male</td>\n",
       "      <td>22</td>\n",
       "      <td>1</td>\n",
       "      <td>0</td>\n",
       "      <td>7.2500</td>\n",
       "    </tr>\n",
       "    <tr>\n",
       "      <th>1</th>\n",
       "      <td>1</td>\n",
       "      <td>1</td>\n",
       "      <td>Mrs. John Bradley (Florence Briggs Thayer) Cum...</td>\n",
       "      <td>female</td>\n",
       "      <td>38</td>\n",
       "      <td>1</td>\n",
       "      <td>0</td>\n",
       "      <td>71.2833</td>\n",
       "    </tr>\n",
       "    <tr>\n",
       "      <th>2</th>\n",
       "      <td>1</td>\n",
       "      <td>3</td>\n",
       "      <td>Miss. Laina Heikkinen</td>\n",
       "      <td>female</td>\n",
       "      <td>26</td>\n",
       "      <td>0</td>\n",
       "      <td>0</td>\n",
       "      <td>7.9250</td>\n",
       "    </tr>\n",
       "    <tr>\n",
       "      <th>3</th>\n",
       "      <td>1</td>\n",
       "      <td>1</td>\n",
       "      <td>Mrs. Jacques Heath (Lily May Peel) Futrelle</td>\n",
       "      <td>female</td>\n",
       "      <td>35</td>\n",
       "      <td>1</td>\n",
       "      <td>0</td>\n",
       "      <td>53.1000</td>\n",
       "    </tr>\n",
       "    <tr>\n",
       "      <th>4</th>\n",
       "      <td>0</td>\n",
       "      <td>3</td>\n",
       "      <td>Mr. William Henry Allen</td>\n",
       "      <td>male</td>\n",
       "      <td>35</td>\n",
       "      <td>0</td>\n",
       "      <td>0</td>\n",
       "      <td>8.0500</td>\n",
       "    </tr>\n",
       "  </tbody>\n",
       "</table>\n",
       "</div>"
      ],
      "text/plain": [
       "   Survived  Pclass                                               Name  \\\n",
       "0         0       3                             Mr. Owen Harris Braund   \n",
       "1         1       1  Mrs. John Bradley (Florence Briggs Thayer) Cum...   \n",
       "2         1       3                              Miss. Laina Heikkinen   \n",
       "3         1       1        Mrs. Jacques Heath (Lily May Peel) Futrelle   \n",
       "4         0       3                            Mr. William Henry Allen   \n",
       "\n",
       "      Sex  Age  Siblings/Spouses Aboard  Parents/Children Aboard     Fare  \n",
       "0    male   22                        1                        0   7.2500  \n",
       "1  female   38                        1                        0  71.2833  \n",
       "2  female   26                        0                        0   7.9250  \n",
       "3  female   35                        1                        0  53.1000  \n",
       "4    male   35                        0                        0   8.0500  "
      ]
     },
     "execution_count": 30,
     "metadata": {},
     "output_type": "execute_result"
    }
   ],
   "source": [
    "#df.shape\n",
    "df[:5]"
   ]
  },
  {
   "cell_type": "markdown",
   "metadata": {},
   "source": [
    "NOTE: Process in chunks if dataset is big."
   ]
  },
  {
   "cell_type": "code",
   "execution_count": 31,
   "metadata": {},
   "outputs": [],
   "source": [
    "docs = []\n",
    "metadatas = []\n",
    "ids = []\n",
    "embeddings = []\n",
    "for index, row in df.iterrows():\n",
    "    output_str = \"\"\n",
    "    # Treat each row as a separate chunk\n",
    "    for col in df.columns:\n",
    "        output_str += f\"{col}: {row[col]},\\n\"\n",
    "    response = openai_client.embeddings.create(\n",
    "        input = output_str,\n",
    "        model= \"text-embedding-ada-002\"\n",
    "    )\n",
    "    embeddings.append(response.data[0].embedding)\n",
    "    docs.append(output_str)\n",
    "    metadatas.append({\"source\": \"titanic_small\"})\n",
    "    ids.append(f\"id{index}\")"
   ]
  },
  {
   "cell_type": "code",
   "execution_count": 32,
   "metadata": {},
   "outputs": [
    {
     "data": {
      "text/plain": [
       "['Survived: 0,\\nPclass: 3,\\nName: Mr. Owen Harris Braund,\\nSex: male,\\nAge: 22,\\nSiblings/Spouses Aboard: 1,\\nParents/Children Aboard: 0,\\nFare: 7.25,\\n',\n",
       " 'Survived: 1,\\nPclass: 1,\\nName: Mrs. John Bradley (Florence Briggs Thayer) Cumings,\\nSex: female,\\nAge: 38,\\nSiblings/Spouses Aboard: 1,\\nParents/Children Aboard: 0,\\nFare: 71.2833,\\n',\n",
       " 'Survived: 1,\\nPclass: 3,\\nName: Miss. Laina Heikkinen,\\nSex: female,\\nAge: 26,\\nSiblings/Spouses Aboard: 0,\\nParents/Children Aboard: 0,\\nFare: 7.925,\\n',\n",
       " 'Survived: 1,\\nPclass: 1,\\nName: Mrs. Jacques Heath (Lily May Peel) Futrelle,\\nSex: female,\\nAge: 35,\\nSiblings/Spouses Aboard: 1,\\nParents/Children Aboard: 0,\\nFare: 53.1,\\n',\n",
       " 'Survived: 0,\\nPclass: 3,\\nName: Mr. William Henry Allen,\\nSex: male,\\nAge: 35,\\nSiblings/Spouses Aboard: 0,\\nParents/Children Aboard: 0,\\nFare: 8.05,\\n',\n",
       " 'Survived: 0,\\nPclass: 3,\\nName: Mr. James Moran,\\nSex: male,\\nAge: 27,\\nSiblings/Spouses Aboard: 0,\\nParents/Children Aboard: 0,\\nFare: 8.4583,\\n',\n",
       " 'Survived: 0,\\nPclass: 1,\\nName: Mr. Timothy J McCarthy,\\nSex: male,\\nAge: 54,\\nSiblings/Spouses Aboard: 0,\\nParents/Children Aboard: 0,\\nFare: 51.8625,\\n',\n",
       " 'Survived: 0,\\nPclass: 3,\\nName: Master. Gosta Leonard Palsson,\\nSex: male,\\nAge: 2,\\nSiblings/Spouses Aboard: 3,\\nParents/Children Aboard: 1,\\nFare: 21.075,\\n',\n",
       " 'Survived: 1,\\nPclass: 3,\\nName: Mrs. Oscar W (Elisabeth Vilhelmina Berg) Johnson,\\nSex: female,\\nAge: 27,\\nSiblings/Spouses Aboard: 0,\\nParents/Children Aboard: 2,\\nFare: 11.1333,\\n',\n",
       " 'Survived: 1,\\nPclass: 2,\\nName: Mrs. Nicholas (Adele Achem) Nasser,\\nSex: female,\\nAge: 14,\\nSiblings/Spouses Aboard: 1,\\nParents/Children Aboard: 0,\\nFare: 30.0708,\\n',\n",
       " 'Survived: 1,\\nPclass: 3,\\nName: Miss. Marguerite Rut Sandstrom,\\nSex: female,\\nAge: 4,\\nSiblings/Spouses Aboard: 1,\\nParents/Children Aboard: 1,\\nFare: 16.7,\\n',\n",
       " 'Survived: 1,\\nPclass: 1,\\nName: Miss. Elizabeth Bonnell,\\nSex: female,\\nAge: 58,\\nSiblings/Spouses Aboard: 0,\\nParents/Children Aboard: 0,\\nFare: 26.55,\\n',\n",
       " 'Survived: 0,\\nPclass: 3,\\nName: Mr. William Henry Saundercock,\\nSex: male,\\nAge: 20,\\nSiblings/Spouses Aboard: 0,\\nParents/Children Aboard: 0,\\nFare: 8.05,\\n',\n",
       " 'Survived: 0,\\nPclass: 3,\\nName: Mr. Anders Johan Andersson,\\nSex: male,\\nAge: 39,\\nSiblings/Spouses Aboard: 1,\\nParents/Children Aboard: 5,\\nFare: 31.275,\\n',\n",
       " 'Survived: 0,\\nPclass: 3,\\nName: Miss. Hulda Amanda Adolfina Vestrom,\\nSex: female,\\nAge: 14,\\nSiblings/Spouses Aboard: 0,\\nParents/Children Aboard: 0,\\nFare: 7.8542,\\n',\n",
       " 'Survived: 1,\\nPclass: 2,\\nName: Mrs. (Mary D Kingcome) Hewlett,\\nSex: female,\\nAge: 55,\\nSiblings/Spouses Aboard: 0,\\nParents/Children Aboard: 0,\\nFare: 16.0,\\n',\n",
       " 'Survived: 0,\\nPclass: 3,\\nName: Master. Eugene Rice,\\nSex: male,\\nAge: 2,\\nSiblings/Spouses Aboard: 4,\\nParents/Children Aboard: 1,\\nFare: 29.125,\\n',\n",
       " 'Survived: 1,\\nPclass: 2,\\nName: Mr. Charles Eugene Williams,\\nSex: male,\\nAge: 23,\\nSiblings/Spouses Aboard: 0,\\nParents/Children Aboard: 0,\\nFare: 13.0,\\n',\n",
       " 'Survived: 0,\\nPclass: 3,\\nName: Mrs. Julius (Emelia Maria Vandemoortele) Vander Planke,\\nSex: female,\\nAge: 31,\\nSiblings/Spouses Aboard: 1,\\nParents/Children Aboard: 0,\\nFare: 18.0,\\n',\n",
       " 'Survived: 1,\\nPclass: 3,\\nName: Mrs. Fatima Masselmani,\\nSex: female,\\nAge: 22,\\nSiblings/Spouses Aboard: 0,\\nParents/Children Aboard: 0,\\nFare: 7.225,\\n',\n",
       " 'Survived: 0,\\nPclass: 2,\\nName: Mr. Joseph J Fynney,\\nSex: male,\\nAge: 35,\\nSiblings/Spouses Aboard: 0,\\nParents/Children Aboard: 0,\\nFare: 26.0,\\n',\n",
       " 'Survived: 1,\\nPclass: 2,\\nName: Mr. Lawrence Beesley,\\nSex: male,\\nAge: 34,\\nSiblings/Spouses Aboard: 0,\\nParents/Children Aboard: 0,\\nFare: 13.0,\\n',\n",
       " 'Survived: 1,\\nPclass: 3,\\nName: Miss. Anna McGowan,\\nSex: female,\\nAge: 15,\\nSiblings/Spouses Aboard: 0,\\nParents/Children Aboard: 0,\\nFare: 8.0292,\\n',\n",
       " 'Survived: 1,\\nPclass: 1,\\nName: Mr. William Thompson Sloper,\\nSex: male,\\nAge: 28,\\nSiblings/Spouses Aboard: 0,\\nParents/Children Aboard: 0,\\nFare: 35.5,\\n',\n",
       " 'Survived: 0,\\nPclass: 3,\\nName: Miss. Torborg Danira Palsson,\\nSex: female,\\nAge: 8,\\nSiblings/Spouses Aboard: 3,\\nParents/Children Aboard: 1,\\nFare: 21.075,\\n',\n",
       " 'Survived: 1,\\nPclass: 3,\\nName: Mrs. Carl Oscar (Selma Augusta Emilia Johansson) Asplund,\\nSex: female,\\nAge: 38,\\nSiblings/Spouses Aboard: 1,\\nParents/Children Aboard: 5,\\nFare: 31.3875,\\n',\n",
       " 'Survived: 0,\\nPclass: 3,\\nName: Mr. Farred Chehab Emir,\\nSex: male,\\nAge: 26,\\nSiblings/Spouses Aboard: 0,\\nParents/Children Aboard: 0,\\nFare: 7.225,\\n',\n",
       " 'Survived: 0,\\nPclass: 1,\\nName: Mr. Charles Alexander Fortune,\\nSex: male,\\nAge: 19,\\nSiblings/Spouses Aboard: 3,\\nParents/Children Aboard: 2,\\nFare: 263.0,\\n',\n",
       " \"Survived: 1,\\nPclass: 3,\\nName: Miss. Ellen O'Dwyer,\\nSex: female,\\nAge: 24,\\nSiblings/Spouses Aboard: 0,\\nParents/Children Aboard: 0,\\nFare: 7.8792,\\n\",\n",
       " 'Survived: 0,\\nPclass: 3,\\nName: Mr. Lalio Todoroff,\\nSex: male,\\nAge: 23,\\nSiblings/Spouses Aboard: 0,\\nParents/Children Aboard: 0,\\nFare: 7.8958,\\n']"
      ]
     },
     "execution_count": 32,
     "metadata": {},
     "output_type": "execute_result"
    }
   ],
   "source": [
    "docs"
   ]
  },
  {
   "cell_type": "code",
   "execution_count": 33,
   "metadata": {},
   "outputs": [
    {
     "name": "stdout",
     "output_type": "stream",
     "text": [
      "[{'source': 'titanic_small'}, {'source': 'titanic_small'}, {'source': 'titanic_small'}, {'source': 'titanic_small'}, {'source': 'titanic_small'}, {'source': 'titanic_small'}, {'source': 'titanic_small'}, {'source': 'titanic_small'}, {'source': 'titanic_small'}, {'source': 'titanic_small'}, {'source': 'titanic_small'}, {'source': 'titanic_small'}, {'source': 'titanic_small'}, {'source': 'titanic_small'}, {'source': 'titanic_small'}, {'source': 'titanic_small'}, {'source': 'titanic_small'}, {'source': 'titanic_small'}, {'source': 'titanic_small'}, {'source': 'titanic_small'}, {'source': 'titanic_small'}, {'source': 'titanic_small'}, {'source': 'titanic_small'}, {'source': 'titanic_small'}, {'source': 'titanic_small'}, {'source': 'titanic_small'}, {'source': 'titanic_small'}, {'source': 'titanic_small'}, {'source': 'titanic_small'}, {'source': 'titanic_small'}]\n",
      "['id0', 'id1', 'id2', 'id3', 'id4', 'id5', 'id6', 'id7', 'id8', 'id9', 'id10', 'id11', 'id12', 'id13', 'id14', 'id15', 'id16', 'id17', 'id18', 'id19', 'id20', 'id21', 'id22', 'id23', 'id24', 'id25', 'id26', 'id27', 'id28', 'id29']\n"
     ]
    }
   ],
   "source": [
    "print(metadatas)\n",
    "print(ids)"
   ]
  },
  {
   "cell_type": "code",
   "execution_count": 34,
   "metadata": {},
   "outputs": [
    {
     "data": {
      "text/plain": [
       "[-0.005519494414329529,\n",
       " -0.019919363781809807,\n",
       " -0.017487507313489914,\n",
       " -0.025138292461633682,\n",
       " 0.010314896702766418,\n",
       " 0.03456515073776245,\n",
       " -0.01339570339769125,\n",
       " -0.0007778866565786302,\n",
       " -0.024960683658719063,\n",
       " -0.017528492957353592]"
      ]
     },
     "execution_count": 34,
     "metadata": {},
     "output_type": "execute_result"
    }
   ],
   "source": [
    "embeddings[0][:10]"
   ]
  },
  {
   "cell_type": "code",
   "execution_count": 36,
   "metadata": {},
   "outputs": [
    {
     "name": "stderr",
     "output_type": "stream",
     "text": [
      "Add of existing embedding ID: id0\n",
      "Add of existing embedding ID: id1\n",
      "Add of existing embedding ID: id2\n",
      "Add of existing embedding ID: id3\n",
      "Add of existing embedding ID: id4\n",
      "Add of existing embedding ID: id5\n",
      "Add of existing embedding ID: id6\n",
      "Add of existing embedding ID: id7\n",
      "Add of existing embedding ID: id8\n",
      "Add of existing embedding ID: id9\n",
      "Add of existing embedding ID: id10\n",
      "Add of existing embedding ID: id11\n",
      "Add of existing embedding ID: id12\n",
      "Add of existing embedding ID: id13\n",
      "Add of existing embedding ID: id14\n",
      "Add of existing embedding ID: id15\n",
      "Add of existing embedding ID: id16\n",
      "Add of existing embedding ID: id17\n",
      "Add of existing embedding ID: id18\n",
      "Add of existing embedding ID: id19\n",
      "Add of existing embedding ID: id20\n",
      "Add of existing embedding ID: id21\n",
      "Add of existing embedding ID: id22\n",
      "Add of existing embedding ID: id23\n",
      "Add of existing embedding ID: id24\n",
      "Add of existing embedding ID: id25\n",
      "Add of existing embedding ID: id26\n",
      "Add of existing embedding ID: id27\n",
      "Add of existing embedding ID: id28\n",
      "Add of existing embedding ID: id29\n",
      "Insert of existing embedding ID: id0\n",
      "Insert of existing embedding ID: id1\n",
      "Insert of existing embedding ID: id2\n",
      "Insert of existing embedding ID: id3\n",
      "Insert of existing embedding ID: id4\n",
      "Insert of existing embedding ID: id5\n",
      "Insert of existing embedding ID: id6\n",
      "Insert of existing embedding ID: id7\n",
      "Insert of existing embedding ID: id8\n",
      "Insert of existing embedding ID: id9\n",
      "Insert of existing embedding ID: id10\n",
      "Insert of existing embedding ID: id11\n",
      "Insert of existing embedding ID: id12\n",
      "Insert of existing embedding ID: id13\n",
      "Insert of existing embedding ID: id14\n",
      "Insert of existing embedding ID: id15\n",
      "Insert of existing embedding ID: id16\n",
      "Insert of existing embedding ID: id17\n",
      "Insert of existing embedding ID: id18\n",
      "Insert of existing embedding ID: id19\n",
      "Insert of existing embedding ID: id20\n",
      "Insert of existing embedding ID: id21\n",
      "Insert of existing embedding ID: id22\n",
      "Insert of existing embedding ID: id23\n",
      "Insert of existing embedding ID: id24\n",
      "Insert of existing embedding ID: id25\n",
      "Insert of existing embedding ID: id26\n",
      "Insert of existing embedding ID: id27\n",
      "Insert of existing embedding ID: id28\n",
      "Insert of existing embedding ID: id29\n"
     ]
    }
   ],
   "source": [
    "collection.add(\n",
    "    documents=docs,\n",
    "    metadatas=metadatas,\n",
    "    embeddings=embeddings,\n",
    "    ids=ids\n",
    ")"
   ]
  },
  {
   "cell_type": "markdown",
   "metadata": {},
   "source": [
    "Verify the vectorDB creation"
   ]
  },
  {
   "cell_type": "code",
   "execution_count": 37,
   "metadata": {},
   "outputs": [
    {
     "name": "stdout",
     "output_type": "stream",
     "text": [
      "Number of vectors in vectordb: 30\n"
     ]
    }
   ],
   "source": [
    "print(\"Number of vectors in vectordb:\", collection.count())"
   ]
  },
  {
   "cell_type": "markdown",
   "metadata": {},
   "source": [
    "### RAG"
   ]
  },
  {
   "cell_type": "code",
   "execution_count": 16,
   "metadata": {},
   "outputs": [],
   "source": [
    "from openai import OpenAI"
   ]
  },
  {
   "cell_type": "code",
   "execution_count": 17,
   "metadata": {},
   "outputs": [],
   "source": [
    "model_name = \"gpt-4o-mini\"\n",
    "openai_api_key = os.environ[\"OPENAI_API_KEY\"]\n",
    "#openai_endpoint = os.environ[\"OPENAI_API_BASE\"]"
   ]
  },
  {
   "cell_type": "code",
   "execution_count": 18,
   "metadata": {},
   "outputs": [],
   "source": [
    "openai_client = OpenAI(\n",
    "    #api_version=os.getenv(\"OPENAI_API_VERSION\"),\n",
    "    #azure_endpoint=os.getenv(\"OPENAI_API_BASE\"),\n",
    "    api_key=os.getenv(\"OPENAI_API_KEY\"),\n",
    ")"
   ]
  },
  {
   "cell_type": "markdown",
   "metadata": {},
   "source": [
    "**Perform similarity search**"
   ]
  },
  {
   "cell_type": "code",
   "execution_count": 38,
   "metadata": {},
   "outputs": [],
   "source": [
    "query_texts = \"what's the average age of survivors\"\n",
    "response = openai_client.embeddings.create(\n",
    "        input = query_texts,\n",
    "        model= \"text-embedding-ada-002\"\n",
    "    )\n",
    "query_embeddings = response.data[0].embedding"
   ]
  },
  {
   "cell_type": "markdown",
   "metadata": {},
   "source": [
    "**Load the chromaDB collection for vector search**"
   ]
  },
  {
   "cell_type": "code",
   "execution_count": 39,
   "metadata": {},
   "outputs": [
    {
     "data": {
      "text/plain": [
       "30"
      ]
     },
     "execution_count": 39,
     "metadata": {},
     "output_type": "execute_result"
    }
   ],
   "source": [
    "vectordb = chroma_client.get_collection(name=\"titanic_small\")\n",
    "vectordb.count()"
   ]
  },
  {
   "cell_type": "code",
   "execution_count": 40,
   "metadata": {},
   "outputs": [
    {
     "data": {
      "text/plain": [
       "{'ids': [['id13']],\n",
       " 'distances': [[0.4679450325701855]],\n",
       " 'metadatas': [[{'source': 'titanic_small'}]],\n",
       " 'embeddings': None,\n",
       " 'documents': [['Survived: 0,\\nPclass: 3,\\nName: Mr. Anders Johan Andersson,\\nSex: male,\\nAge: 39,\\nSiblings/Spouses Aboard: 1,\\nParents/Children Aboard: 5,\\nFare: 31.275,\\n']],\n",
       " 'uris': None,\n",
       " 'data': None,\n",
       " 'included': ['metadatas', 'documents', 'distances']}"
      ]
     },
     "execution_count": 40,
     "metadata": {},
     "output_type": "execute_result"
    }
   ],
   "source": [
    "results = vectordb.query(\n",
    "    query_embeddings = query_embeddings,\n",
    "    n_results=1 #top_k\n",
    ")\n",
    "\n",
    "results"
   ]
  },
  {
   "cell_type": "markdown",
   "metadata": {},
   "source": [
    "Pass the results to an LLM"
   ]
  },
  {
   "cell_type": "code",
   "execution_count": 41,
   "metadata": {},
   "outputs": [],
   "source": [
    "system_role = \"You will recieve the user's question along with the search results of that question over a database. Give the user the proper answer.\"\n",
    "prompt = f\"User's question: {query_texts} \\n\\n Search results:\\n {results}\"\n",
    "\n",
    "messages = [\n",
    "    {\"role\": \"system\", \"content\": str(\n",
    "        system_role\n",
    "        )},\n",
    "    {\"role\": \"user\", \"content\": prompt}\n",
    "]"
   ]
  },
  {
   "cell_type": "code",
   "execution_count": 42,
   "metadata": {},
   "outputs": [],
   "source": [
    "response = openai_client.chat.completions.create(\n",
    "    model=\"gpt-4o-mini\",\n",
    "    messages=messages\n",
    ")"
   ]
  },
  {
   "cell_type": "code",
   "execution_count": 43,
   "metadata": {},
   "outputs": [
    {
     "data": {
      "text/plain": [
       "\"The search results do not provide a direct answer to the average age of survivors. However, if you are looking for the average age of survivors specifically from the Titanic dataset mentioned, it would typically require a calculation based on individual ages of all survivors recorded in that dataset. If you can provide me with more data on the survivors' ages or point me to specific datasets, I can help you calculate the average.\""
      ]
     },
     "execution_count": 43,
     "metadata": {},
     "output_type": "execute_result"
    }
   ],
   "source": [
    "response.choices[0].message.content"
   ]
  },
  {
   "cell_type": "markdown",
   "metadata": {},
   "source": [
    "**Fact check**"
   ]
  },
  {
   "cell_type": "code",
   "execution_count": 44,
   "metadata": {},
   "outputs": [
    {
     "data": {
      "text/html": [
       "<div>\n",
       "<style scoped>\n",
       "    .dataframe tbody tr th:only-of-type {\n",
       "        vertical-align: middle;\n",
       "    }\n",
       "\n",
       "    .dataframe tbody tr th {\n",
       "        vertical-align: top;\n",
       "    }\n",
       "\n",
       "    .dataframe thead th {\n",
       "        text-align: right;\n",
       "    }\n",
       "</style>\n",
       "<table border=\"1\" class=\"dataframe\">\n",
       "  <thead>\n",
       "    <tr style=\"text-align: right;\">\n",
       "      <th></th>\n",
       "      <th>Survived</th>\n",
       "      <th>Pclass</th>\n",
       "      <th>Name</th>\n",
       "      <th>Sex</th>\n",
       "      <th>Age</th>\n",
       "      <th>Siblings/Spouses Aboard</th>\n",
       "      <th>Parents/Children Aboard</th>\n",
       "      <th>Fare</th>\n",
       "    </tr>\n",
       "  </thead>\n",
       "  <tbody>\n",
       "    <tr>\n",
       "      <th>0</th>\n",
       "      <td>0</td>\n",
       "      <td>3</td>\n",
       "      <td>Mr. Owen Harris Braund</td>\n",
       "      <td>male</td>\n",
       "      <td>22</td>\n",
       "      <td>1</td>\n",
       "      <td>0</td>\n",
       "      <td>7.2500</td>\n",
       "    </tr>\n",
       "    <tr>\n",
       "      <th>1</th>\n",
       "      <td>1</td>\n",
       "      <td>1</td>\n",
       "      <td>Mrs. John Bradley (Florence Briggs Thayer) Cum...</td>\n",
       "      <td>female</td>\n",
       "      <td>38</td>\n",
       "      <td>1</td>\n",
       "      <td>0</td>\n",
       "      <td>71.2833</td>\n",
       "    </tr>\n",
       "    <tr>\n",
       "      <th>2</th>\n",
       "      <td>1</td>\n",
       "      <td>3</td>\n",
       "      <td>Miss. Laina Heikkinen</td>\n",
       "      <td>female</td>\n",
       "      <td>26</td>\n",
       "      <td>0</td>\n",
       "      <td>0</td>\n",
       "      <td>7.9250</td>\n",
       "    </tr>\n",
       "    <tr>\n",
       "      <th>3</th>\n",
       "      <td>1</td>\n",
       "      <td>1</td>\n",
       "      <td>Mrs. Jacques Heath (Lily May Peel) Futrelle</td>\n",
       "      <td>female</td>\n",
       "      <td>35</td>\n",
       "      <td>1</td>\n",
       "      <td>0</td>\n",
       "      <td>53.1000</td>\n",
       "    </tr>\n",
       "    <tr>\n",
       "      <th>4</th>\n",
       "      <td>0</td>\n",
       "      <td>3</td>\n",
       "      <td>Mr. William Henry Allen</td>\n",
       "      <td>male</td>\n",
       "      <td>35</td>\n",
       "      <td>0</td>\n",
       "      <td>0</td>\n",
       "      <td>8.0500</td>\n",
       "    </tr>\n",
       "    <tr>\n",
       "      <th>5</th>\n",
       "      <td>0</td>\n",
       "      <td>3</td>\n",
       "      <td>Mr. James Moran</td>\n",
       "      <td>male</td>\n",
       "      <td>27</td>\n",
       "      <td>0</td>\n",
       "      <td>0</td>\n",
       "      <td>8.4583</td>\n",
       "    </tr>\n",
       "    <tr>\n",
       "      <th>6</th>\n",
       "      <td>0</td>\n",
       "      <td>1</td>\n",
       "      <td>Mr. Timothy J McCarthy</td>\n",
       "      <td>male</td>\n",
       "      <td>54</td>\n",
       "      <td>0</td>\n",
       "      <td>0</td>\n",
       "      <td>51.8625</td>\n",
       "    </tr>\n",
       "    <tr>\n",
       "      <th>7</th>\n",
       "      <td>0</td>\n",
       "      <td>3</td>\n",
       "      <td>Master. Gosta Leonard Palsson</td>\n",
       "      <td>male</td>\n",
       "      <td>2</td>\n",
       "      <td>3</td>\n",
       "      <td>1</td>\n",
       "      <td>21.0750</td>\n",
       "    </tr>\n",
       "    <tr>\n",
       "      <th>8</th>\n",
       "      <td>1</td>\n",
       "      <td>3</td>\n",
       "      <td>Mrs. Oscar W (Elisabeth Vilhelmina Berg) Johnson</td>\n",
       "      <td>female</td>\n",
       "      <td>27</td>\n",
       "      <td>0</td>\n",
       "      <td>2</td>\n",
       "      <td>11.1333</td>\n",
       "    </tr>\n",
       "    <tr>\n",
       "      <th>9</th>\n",
       "      <td>1</td>\n",
       "      <td>2</td>\n",
       "      <td>Mrs. Nicholas (Adele Achem) Nasser</td>\n",
       "      <td>female</td>\n",
       "      <td>14</td>\n",
       "      <td>1</td>\n",
       "      <td>0</td>\n",
       "      <td>30.0708</td>\n",
       "    </tr>\n",
       "    <tr>\n",
       "      <th>10</th>\n",
       "      <td>1</td>\n",
       "      <td>3</td>\n",
       "      <td>Miss. Marguerite Rut Sandstrom</td>\n",
       "      <td>female</td>\n",
       "      <td>4</td>\n",
       "      <td>1</td>\n",
       "      <td>1</td>\n",
       "      <td>16.7000</td>\n",
       "    </tr>\n",
       "    <tr>\n",
       "      <th>11</th>\n",
       "      <td>1</td>\n",
       "      <td>1</td>\n",
       "      <td>Miss. Elizabeth Bonnell</td>\n",
       "      <td>female</td>\n",
       "      <td>58</td>\n",
       "      <td>0</td>\n",
       "      <td>0</td>\n",
       "      <td>26.5500</td>\n",
       "    </tr>\n",
       "    <tr>\n",
       "      <th>12</th>\n",
       "      <td>0</td>\n",
       "      <td>3</td>\n",
       "      <td>Mr. William Henry Saundercock</td>\n",
       "      <td>male</td>\n",
       "      <td>20</td>\n",
       "      <td>0</td>\n",
       "      <td>0</td>\n",
       "      <td>8.0500</td>\n",
       "    </tr>\n",
       "    <tr>\n",
       "      <th>13</th>\n",
       "      <td>0</td>\n",
       "      <td>3</td>\n",
       "      <td>Mr. Anders Johan Andersson</td>\n",
       "      <td>male</td>\n",
       "      <td>39</td>\n",
       "      <td>1</td>\n",
       "      <td>5</td>\n",
       "      <td>31.2750</td>\n",
       "    </tr>\n",
       "    <tr>\n",
       "      <th>14</th>\n",
       "      <td>0</td>\n",
       "      <td>3</td>\n",
       "      <td>Miss. Hulda Amanda Adolfina Vestrom</td>\n",
       "      <td>female</td>\n",
       "      <td>14</td>\n",
       "      <td>0</td>\n",
       "      <td>0</td>\n",
       "      <td>7.8542</td>\n",
       "    </tr>\n",
       "    <tr>\n",
       "      <th>15</th>\n",
       "      <td>1</td>\n",
       "      <td>2</td>\n",
       "      <td>Mrs. (Mary D Kingcome) Hewlett</td>\n",
       "      <td>female</td>\n",
       "      <td>55</td>\n",
       "      <td>0</td>\n",
       "      <td>0</td>\n",
       "      <td>16.0000</td>\n",
       "    </tr>\n",
       "    <tr>\n",
       "      <th>16</th>\n",
       "      <td>0</td>\n",
       "      <td>3</td>\n",
       "      <td>Master. Eugene Rice</td>\n",
       "      <td>male</td>\n",
       "      <td>2</td>\n",
       "      <td>4</td>\n",
       "      <td>1</td>\n",
       "      <td>29.1250</td>\n",
       "    </tr>\n",
       "    <tr>\n",
       "      <th>17</th>\n",
       "      <td>1</td>\n",
       "      <td>2</td>\n",
       "      <td>Mr. Charles Eugene Williams</td>\n",
       "      <td>male</td>\n",
       "      <td>23</td>\n",
       "      <td>0</td>\n",
       "      <td>0</td>\n",
       "      <td>13.0000</td>\n",
       "    </tr>\n",
       "    <tr>\n",
       "      <th>18</th>\n",
       "      <td>0</td>\n",
       "      <td>3</td>\n",
       "      <td>Mrs. Julius (Emelia Maria Vandemoortele) Vande...</td>\n",
       "      <td>female</td>\n",
       "      <td>31</td>\n",
       "      <td>1</td>\n",
       "      <td>0</td>\n",
       "      <td>18.0000</td>\n",
       "    </tr>\n",
       "    <tr>\n",
       "      <th>19</th>\n",
       "      <td>1</td>\n",
       "      <td>3</td>\n",
       "      <td>Mrs. Fatima Masselmani</td>\n",
       "      <td>female</td>\n",
       "      <td>22</td>\n",
       "      <td>0</td>\n",
       "      <td>0</td>\n",
       "      <td>7.2250</td>\n",
       "    </tr>\n",
       "    <tr>\n",
       "      <th>20</th>\n",
       "      <td>0</td>\n",
       "      <td>2</td>\n",
       "      <td>Mr. Joseph J Fynney</td>\n",
       "      <td>male</td>\n",
       "      <td>35</td>\n",
       "      <td>0</td>\n",
       "      <td>0</td>\n",
       "      <td>26.0000</td>\n",
       "    </tr>\n",
       "    <tr>\n",
       "      <th>21</th>\n",
       "      <td>1</td>\n",
       "      <td>2</td>\n",
       "      <td>Mr. Lawrence Beesley</td>\n",
       "      <td>male</td>\n",
       "      <td>34</td>\n",
       "      <td>0</td>\n",
       "      <td>0</td>\n",
       "      <td>13.0000</td>\n",
       "    </tr>\n",
       "    <tr>\n",
       "      <th>22</th>\n",
       "      <td>1</td>\n",
       "      <td>3</td>\n",
       "      <td>Miss. Anna McGowan</td>\n",
       "      <td>female</td>\n",
       "      <td>15</td>\n",
       "      <td>0</td>\n",
       "      <td>0</td>\n",
       "      <td>8.0292</td>\n",
       "    </tr>\n",
       "    <tr>\n",
       "      <th>23</th>\n",
       "      <td>1</td>\n",
       "      <td>1</td>\n",
       "      <td>Mr. William Thompson Sloper</td>\n",
       "      <td>male</td>\n",
       "      <td>28</td>\n",
       "      <td>0</td>\n",
       "      <td>0</td>\n",
       "      <td>35.5000</td>\n",
       "    </tr>\n",
       "    <tr>\n",
       "      <th>24</th>\n",
       "      <td>0</td>\n",
       "      <td>3</td>\n",
       "      <td>Miss. Torborg Danira Palsson</td>\n",
       "      <td>female</td>\n",
       "      <td>8</td>\n",
       "      <td>3</td>\n",
       "      <td>1</td>\n",
       "      <td>21.0750</td>\n",
       "    </tr>\n",
       "    <tr>\n",
       "      <th>25</th>\n",
       "      <td>1</td>\n",
       "      <td>3</td>\n",
       "      <td>Mrs. Carl Oscar (Selma Augusta Emilia Johansso...</td>\n",
       "      <td>female</td>\n",
       "      <td>38</td>\n",
       "      <td>1</td>\n",
       "      <td>5</td>\n",
       "      <td>31.3875</td>\n",
       "    </tr>\n",
       "    <tr>\n",
       "      <th>26</th>\n",
       "      <td>0</td>\n",
       "      <td>3</td>\n",
       "      <td>Mr. Farred Chehab Emir</td>\n",
       "      <td>male</td>\n",
       "      <td>26</td>\n",
       "      <td>0</td>\n",
       "      <td>0</td>\n",
       "      <td>7.2250</td>\n",
       "    </tr>\n",
       "    <tr>\n",
       "      <th>27</th>\n",
       "      <td>0</td>\n",
       "      <td>1</td>\n",
       "      <td>Mr. Charles Alexander Fortune</td>\n",
       "      <td>male</td>\n",
       "      <td>19</td>\n",
       "      <td>3</td>\n",
       "      <td>2</td>\n",
       "      <td>263.0000</td>\n",
       "    </tr>\n",
       "    <tr>\n",
       "      <th>28</th>\n",
       "      <td>1</td>\n",
       "      <td>3</td>\n",
       "      <td>Miss. Ellen O'Dwyer</td>\n",
       "      <td>female</td>\n",
       "      <td>24</td>\n",
       "      <td>0</td>\n",
       "      <td>0</td>\n",
       "      <td>7.8792</td>\n",
       "    </tr>\n",
       "    <tr>\n",
       "      <th>29</th>\n",
       "      <td>0</td>\n",
       "      <td>3</td>\n",
       "      <td>Mr. Lalio Todoroff</td>\n",
       "      <td>male</td>\n",
       "      <td>23</td>\n",
       "      <td>0</td>\n",
       "      <td>0</td>\n",
       "      <td>7.8958</td>\n",
       "    </tr>\n",
       "  </tbody>\n",
       "</table>\n",
       "</div>"
      ],
      "text/plain": [
       "    Survived  Pclass                                               Name  \\\n",
       "0          0       3                             Mr. Owen Harris Braund   \n",
       "1          1       1  Mrs. John Bradley (Florence Briggs Thayer) Cum...   \n",
       "2          1       3                              Miss. Laina Heikkinen   \n",
       "3          1       1        Mrs. Jacques Heath (Lily May Peel) Futrelle   \n",
       "4          0       3                            Mr. William Henry Allen   \n",
       "5          0       3                                    Mr. James Moran   \n",
       "6          0       1                             Mr. Timothy J McCarthy   \n",
       "7          0       3                      Master. Gosta Leonard Palsson   \n",
       "8          1       3   Mrs. Oscar W (Elisabeth Vilhelmina Berg) Johnson   \n",
       "9          1       2                 Mrs. Nicholas (Adele Achem) Nasser   \n",
       "10         1       3                     Miss. Marguerite Rut Sandstrom   \n",
       "11         1       1                            Miss. Elizabeth Bonnell   \n",
       "12         0       3                      Mr. William Henry Saundercock   \n",
       "13         0       3                         Mr. Anders Johan Andersson   \n",
       "14         0       3                Miss. Hulda Amanda Adolfina Vestrom   \n",
       "15         1       2                     Mrs. (Mary D Kingcome) Hewlett   \n",
       "16         0       3                                Master. Eugene Rice   \n",
       "17         1       2                        Mr. Charles Eugene Williams   \n",
       "18         0       3  Mrs. Julius (Emelia Maria Vandemoortele) Vande...   \n",
       "19         1       3                             Mrs. Fatima Masselmani   \n",
       "20         0       2                                Mr. Joseph J Fynney   \n",
       "21         1       2                               Mr. Lawrence Beesley   \n",
       "22         1       3                                 Miss. Anna McGowan   \n",
       "23         1       1                        Mr. William Thompson Sloper   \n",
       "24         0       3                       Miss. Torborg Danira Palsson   \n",
       "25         1       3  Mrs. Carl Oscar (Selma Augusta Emilia Johansso...   \n",
       "26         0       3                             Mr. Farred Chehab Emir   \n",
       "27         0       1                      Mr. Charles Alexander Fortune   \n",
       "28         1       3                                Miss. Ellen O'Dwyer   \n",
       "29         0       3                                 Mr. Lalio Todoroff   \n",
       "\n",
       "       Sex  Age  Siblings/Spouses Aboard  Parents/Children Aboard      Fare  \n",
       "0     male   22                        1                        0    7.2500  \n",
       "1   female   38                        1                        0   71.2833  \n",
       "2   female   26                        0                        0    7.9250  \n",
       "3   female   35                        1                        0   53.1000  \n",
       "4     male   35                        0                        0    8.0500  \n",
       "5     male   27                        0                        0    8.4583  \n",
       "6     male   54                        0                        0   51.8625  \n",
       "7     male    2                        3                        1   21.0750  \n",
       "8   female   27                        0                        2   11.1333  \n",
       "9   female   14                        1                        0   30.0708  \n",
       "10  female    4                        1                        1   16.7000  \n",
       "11  female   58                        0                        0   26.5500  \n",
       "12    male   20                        0                        0    8.0500  \n",
       "13    male   39                        1                        5   31.2750  \n",
       "14  female   14                        0                        0    7.8542  \n",
       "15  female   55                        0                        0   16.0000  \n",
       "16    male    2                        4                        1   29.1250  \n",
       "17    male   23                        0                        0   13.0000  \n",
       "18  female   31                        1                        0   18.0000  \n",
       "19  female   22                        0                        0    7.2250  \n",
       "20    male   35                        0                        0   26.0000  \n",
       "21    male   34                        0                        0   13.0000  \n",
       "22  female   15                        0                        0    8.0292  \n",
       "23    male   28                        0                        0   35.5000  \n",
       "24  female    8                        3                        1   21.0750  \n",
       "25  female   38                        1                        5   31.3875  \n",
       "26    male   26                        0                        0    7.2250  \n",
       "27    male   19                        3                        2  263.0000  \n",
       "28  female   24                        0                        0    7.8792  \n",
       "29    male   23                        0                        0    7.8958  "
      ]
     },
     "execution_count": 44,
     "metadata": {},
     "output_type": "execute_result"
    }
   ],
   "source": [
    "df"
   ]
  }
 ],
 "metadata": {
  "kernelspec": {
   "display_name": "playaround",
   "language": "python",
   "name": "python3"
  },
  "language_info": {
   "codemirror_mode": {
    "name": "ipython",
    "version": 3
   },
   "file_extension": ".py",
   "mimetype": "text/x-python",
   "name": "python",
   "nbconvert_exporter": "python",
   "pygments_lexer": "ipython3",
   "version": "3.12.5"
  }
 },
 "nbformat": 4,
 "nbformat_minor": 2
}
